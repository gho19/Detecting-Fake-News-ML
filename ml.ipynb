{
 "metadata": {
  "language_info": {
   "codemirror_mode": {
    "name": "ipython",
    "version": 3
   },
   "file_extension": ".py",
   "mimetype": "text/x-python",
   "name": "python",
   "nbconvert_exporter": "python",
   "pygments_lexer": "ipython3",
   "version": "3.7.6-final"
  },
  "orig_nbformat": 2,
  "kernelspec": {
   "name": "python3",
   "display_name": "Python 3"
  }
 },
 "nbformat": 4,
 "nbformat_minor": 2,
 "cells": [
  {
   "cell_type": "code",
   "execution_count": 43,
   "metadata": {},
   "outputs": [],
   "source": [
    "import pandas as pd"
   ]
  },
  {
   "cell_type": "code",
   "execution_count": 44,
   "metadata": {},
   "outputs": [
    {
     "output_type": "execute_result",
     "data": {
      "text/plain": [
       "                                                text  fake_news\n",
       "0  Donald Trump just couldn t wish all Americans ...          1\n",
       "1  House Intelligence Committee Chairman Devin Nu...          1\n",
       "2  On Friday, it was revealed that former Milwauk...          1\n",
       "3  On Christmas day, Donald Trump announced that ...          1\n",
       "4  Pope Francis used his annual Christmas Day mes...          1"
      ],
      "text/html": "<div>\n<style scoped>\n    .dataframe tbody tr th:only-of-type {\n        vertical-align: middle;\n    }\n\n    .dataframe tbody tr th {\n        vertical-align: top;\n    }\n\n    .dataframe thead th {\n        text-align: right;\n    }\n</style>\n<table border=\"1\" class=\"dataframe\">\n  <thead>\n    <tr style=\"text-align: right;\">\n      <th></th>\n      <th>text</th>\n      <th>fake_news</th>\n    </tr>\n  </thead>\n  <tbody>\n    <tr>\n      <th>0</th>\n      <td>Donald Trump just couldn t wish all Americans ...</td>\n      <td>1</td>\n    </tr>\n    <tr>\n      <th>1</th>\n      <td>House Intelligence Committee Chairman Devin Nu...</td>\n      <td>1</td>\n    </tr>\n    <tr>\n      <th>2</th>\n      <td>On Friday, it was revealed that former Milwauk...</td>\n      <td>1</td>\n    </tr>\n    <tr>\n      <th>3</th>\n      <td>On Christmas day, Donald Trump announced that ...</td>\n      <td>1</td>\n    </tr>\n    <tr>\n      <th>4</th>\n      <td>Pope Francis used his annual Christmas Day mes...</td>\n      <td>1</td>\n    </tr>\n  </tbody>\n</table>\n</div>"
     },
     "metadata": {},
     "execution_count": 44
    }
   ],
   "source": [
    "df = pd.read_csv('cleaned_news.csv')\n",
    "df.head()"
   ]
  },
  {
   "cell_type": "code",
   "execution_count": 45,
   "metadata": {},
   "outputs": [],
   "source": [
    "\n",
    "# Split the data\n",
    "DV = 'fake_news' # The dependent variable, text is the independent variable here\n",
    "\n",
    "X = df.drop([DV], axis = 1) # Drop from our X array because this is the text data that gets trained\n",
    "y = df[DV]"
   ]
  },
  {
   "cell_type": "code",
   "execution_count": 46,
   "metadata": {},
   "outputs": [],
   "source": [
    "# Split data into test and train\n",
    "from sklearn.model_selection import train_test_split\n",
    "\n",
    "# Training on 75% of the data, test on the rest\n",
    "X_train, X_test, y_train, y_test = train_test_split(X,y, test_size = 0.25)"
   ]
  },
  {
   "cell_type": "code",
   "execution_count": 47,
   "metadata": {},
   "outputs": [],
   "source": [
    "from sklearn.feature_extraction.text import CountVectorizer\n",
    "\n",
    "count_vect = CountVectorizer(max_features = 10000)# limiting to 5000, but room to play with this here!\n",
    "X_train_counts = count_vect.fit_transform(X_train['text']) \n",
    "# print(count_vect.vocabulary_) # here is our bag of words! \n",
    "X_test = count_vect.transform(X_test['text']) # note: we don't fit it to the model! Or else this is all useless"
   ]
  },
  {
   "cell_type": "code",
   "execution_count": 48,
   "metadata": {},
   "outputs": [
    {
     "output_type": "execute_result",
     "data": {
      "text/plain": [
       "MultinomialNB()"
      ]
     },
     "metadata": {},
     "execution_count": 48
    }
   ],
   "source": [
    "from sklearn.naive_bayes import MultinomialNB\n",
    "\n",
    "# Fit the training dataset on the NB classifier\n",
    "Naive = MultinomialNB()\n",
    "Naive.fit(X_train_counts, y_train)"
   ]
  },
  {
   "cell_type": "code",
   "execution_count": 49,
   "metadata": {},
   "outputs": [
    {
     "output_type": "stream",
     "name": "stdout",
     "text": [
      "Accuracy Score: 93.81351399536459\n"
     ]
    }
   ],
   "source": [
    "from sklearn.metrics import accuracy_score\n",
    "\n",
    "# Predict the labels on validation dataset\n",
    "predictions_NB = Naive.predict(X_test)\n",
    "\n",
    "# Use accuracy_score function to get the accuracy\n",
    "print('Accuracy Score:', accuracy_score(predictions_NB, y_test) * 100)"
   ]
  },
  {
   "cell_type": "code",
   "execution_count": 50,
   "metadata": {},
   "outputs": [],
   "source": [
    "def classifier(text):\n",
    "    Naive = MultinomialNB()\n",
    "    Naive.fit(X_train_counts, y_train)\n",
    "    \n",
    "    # n.b: you may need to wrap the argument in brackets to make it a vector if you passed in a string\n",
    "    word_vec = count_vect.transform(text) \n",
    "    \n",
    "    predict = Naive.predict(word_vec)\n",
    "    return \"Fake News\" if predict[0] else \"True News\""
   ]
  }
 ]
}